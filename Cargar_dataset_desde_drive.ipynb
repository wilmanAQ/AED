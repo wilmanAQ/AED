{
  "nbformat": 4,
  "nbformat_minor": 0,
  "metadata": {
    "colab": {
      "provenance": [],
      "authorship_tag": "ABX9TyM/JRDYxoMg5a9ytORp2Kgx",
      "include_colab_link": true
    },
    "kernelspec": {
      "name": "python3",
      "display_name": "Python 3"
    },
    "language_info": {
      "name": "python"
    }
  },
  "cells": [
    {
      "cell_type": "markdown",
      "metadata": {
        "id": "view-in-github",
        "colab_type": "text"
      },
      "source": [
        "<a href=\"https://colab.research.google.com/github/wilmanAQ/AED/blob/main/Cargar_dataset_desde_drive.ipynb\" target=\"_parent\"><img src=\"https://colab.research.google.com/assets/colab-badge.svg\" alt=\"Open In Colab\"/></a>"
      ]
    },
    {
      "cell_type": "markdown",
      "source": [
        "##Cómo se puede cargar desde nuestra unidad de Google a colab."
      ],
      "metadata": {
        "id": "i4iz-EG5qVu-"
      }
    },
    {
      "cell_type": "code",
      "execution_count": null,
      "metadata": {
        "id": "78fjjnDdqKek"
      },
      "outputs": [],
      "source": [
        "#from google.colab import files\n",
        "#import pandas as pd\n",
        "#import io\n",
        "#uploaded = files.upload()\n",
        "#df = pd.read_csv(io.BytesIO(uploaded['dataset.csv']))\n",
        "#df.head()"
      ]
    },
    {
      "cell_type": "markdown",
      "source": [
        "#Cargar un conjunto de datos desde Google Drive a Google Colab\n",
        "\n",
        "En primer lugar, debe montar la unidad de Google para colab. Para hacer eso,Abra una hoja de colab y escriba el siguiente código,"
      ],
      "metadata": {
        "id": "KTzE7wf1q9No"
      }
    },
    {
      "cell_type": "code",
      "source": [
        "#from google.colab import drive\n",
        "#drive.mount('/content/drive')"
      ],
      "metadata": {
        "id": "QaL_J3fJq7v5"
      },
      "execution_count": null,
      "outputs": []
    },
    {
      "cell_type": "markdown",
      "source": [
        "# Otra forma para cargar dataset"
      ],
      "metadata": {
        "id": "_MkDyIdcsLQX"
      }
    },
    {
      "cell_type": "code",
      "source": [
        "#import pandas as pd\n",
        "#df =pd.read_csv(\"drive/My Drive/ColabDrive/MovieData/movies_metadata.csv\")\n",
        "#df.head()"
      ],
      "metadata": {
        "id": "O-XC1T47sSXx"
      },
      "execution_count": null,
      "outputs": []
    }
  ]
}