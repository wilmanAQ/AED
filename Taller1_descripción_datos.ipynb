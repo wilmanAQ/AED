{
  "nbformat": 4,
  "nbformat_minor": 0,
  "metadata": {
    "colab": {
      "provenance": [],
      "mount_file_id": "1B5nHl8ka2L15yW8uB4Ztug3SftpXZwA3",
      "authorship_tag": "ABX9TyO/OLjul1AZkzrPI0KqGcQv",
      "include_colab_link": true
    },
    "kernelspec": {
      "name": "python3",
      "display_name": "Python 3"
    },
    "language_info": {
      "name": "python"
    }
  },
  "cells": [
    {
      "cell_type": "markdown",
      "metadata": {
        "id": "view-in-github",
        "colab_type": "text"
      },
      "source": [
        "<a href=\"https://colab.research.google.com/github/wilmanAQ/AED/blob/main/Taller1_descripci%C3%B3n_datos.ipynb\" target=\"_parent\"><img src=\"https://colab.research.google.com/assets/colab-badge.svg\" alt=\"Open In Colab\"/></a>"
      ]
    },
    {
      "cell_type": "code",
      "execution_count": 98,
      "metadata": {
        "id": "MEQsEAuKWUXF"
      },
      "outputs": [],
      "source": [
        "import pandas as pd\n",
        "import google.colab as drive\n",
        "import numpy as np\n",
        "import matplotlib as plt\n",
        "from matplotlib import pyplot\n",
        "import matplotlib.pyplot as plt\n",
        "from matplotlib import rcParams\n",
        "import seaborn as sns\n",
        "import altair as alt\n"
      ]
    },
    {
      "cell_type": "markdown",
      "source": [
        "**1. Contexto del análisis.**\n",
        "La compañía de seguros de salud para la que trabajo. Quiere entender mejor cómo la competencia estima los costos para los seguros de la población fumadora. Me han pedido que investigar algunos datos históricos de la competencia para comprender qué características de la población fumadora resultan claves para nuestra compañía.\n"
      ],
      "metadata": {
        "id": "5DSiUwFOQaqI"
      }
    },
    {
      "cell_type": "markdown",
      "source": [
        "**2.Pregunta SMART.** Problema de negocio. Se quiere dar respuesta a la siguiente pregunta ¿**Cuál es el perfil de las personas fumadoras en relación con el costo de su seguro de salud, su región geográfica donde viven y sus características personales?**"
      ],
      "metadata": {
        "id": "Wd4GRixQRH-3"
      }
    },
    {
      "cell_type": "markdown",
      "source": [
        "3.Descripción de los datos incluyendo para cada columna: Variable: nombre de la variable. El conjunto de datos de las personas fumadora, tienen los siguientes atributos:\n",
        "\n",
        "-**edad:** La edad de la persona, en años.\n",
        "\n",
        "-**sexo:** Masculino o femenino.\n",
        "\n",
        "-**imc:** El Índice de Masa Corporal (IMC) de la persona.\n",
        "\n",
        "-**hijos:** el número de hijos que tiene la persona.\n",
        "\n",
        "-**fumador:** Si la persona es fumadora o no.\n",
        "\n",
        "-**región:** Noreste, noroeste, sureste, suroeste.\n",
        "\n",
        "-**costo:** El costo del seguro de salud de esa persona.\n",
        "\n",
        "-Tipo: tipo del formato de la variable. categórica, numérica, Booleana.\n"
      ],
      "metadata": {
        "id": "nJUUjDBqR1BP"
      }
    },
    {
      "cell_type": "markdown",
      "source": [
        "***Contexto***: información útil para entender el espacio semántico. \n",
        "\n",
        "Los datos que emplearemos para trabajar en este análisis son de carácter público, son de personas fumadoras, el costo de su seguro de vida, la región donde habitan y características personales. Todos los datos se encuentran en un archivo de Excel dataset_fumadores.xlsx.\n"
      ],
      "metadata": {
        "id": "hYgFn31sSl-h"
      }
    },
    {
      "cell_type": "markdown",
      "source": [
        "***Expectativa***: ¿Por qué es importante esta variable para mi problema? \n",
        "\n",
        "Se espera conocer las características de las personales fumadoras, el costo de su seguro de vida y la región geográfica donde habitan. \n"
      ],
      "metadata": {
        "id": "P_EAmyyhTs37"
      }
    },
    {
      "cell_type": "markdown",
      "source": [
        "***Importancia***:\n",
        "\n",
        "Analizar a la competencia para entender como estima los costos para los seguros de la población fumadora."
      ],
      "metadata": {
        "id": "Cyu4TGoWUBDP"
      }
    },
    {
      "cell_type": "markdown",
      "source": [
        "#Análisis general del dataset fumadores:\n",
        "\n",
        "-\t***Forma y tamaño del dataset fumadores***: \n",
        " \n",
        "  El tamaño y la forma es (1338, 7)\n",
        "\n",
        "- ***Evaluación de los nombres de las variables***:\n",
        "\n",
        "Los nombres de las variables hacen referencia a la información que está en el dataset fumadores. No se encuentra incoherencia en los atributos, es decir la información es confiable e integra. \n",
        "- ***Revisión de los tipos de variables***:\n",
        "\n",
        "En la revisión de los tipos de variables se pudo evidenciar los siguientes tipos de variables:  ***Object, Int64, Float64***\n",
        "- **edad**    float64\n",
        "- **sexo**    Object\n",
        "- **imc**     float64\n",
        "- **hijos**   int64\n",
        "- **Fumador** Object\n",
        "- ***Región** Object\n",
        "- ***Costo*** float"
      ],
      "metadata": {
        "id": "GcxD3LmWUfo_"
      }
    },
    {
      "cell_type": "markdown",
      "source": [
        "#Análisis Unitario :\n",
        "\n",
        "-\t**Identificar Valores Nulos**.\n",
        "\n",
        "No hay valores nulos en la dataset fumadores.\n",
        "\n",
        "-**Analizar los Valores únicos de las variables discretas**.\n",
        "\n",
        "-**Analizar la distribución de las variables continuas**.\n",
        "\n",
        "-**Evaluar la necesidad de usar Label encoding y/o  hot-encoding**\n",
        "Se encontró la necesidad de aplicar hot-encoding a las variables sexo, región y fumador. Ya que estas son variables cualitativas nominal y, no se puede aplicar un orden especifico\n"
      ],
      "metadata": {
        "id": "Azb8r4sEUtFv"
      }
    },
    {
      "cell_type": "code",
      "source": [
        "# Cargo el link del dataset\n",
        "bd ='/content/drive/MyDrive/Colab Notebooks/Analisis_exploratorio_datos/dataset_fumadores.xlsx'\n",
        "# Asigno los encabezado\n",
        "headers = [\"edad\",\"sexo\",\"imc\",\"hijos\",\"fumador\", \"region\",\"costo\"]\n",
        "# Asigno la data y el encabezado\n",
        "data = pd.read_excel(bd, names=headers)\n",
        "# Leo las 5 primeras lineas del la data\n",
        "data.head(5)"
      ],
      "metadata": {
        "colab": {
          "base_uri": "https://localhost:8080/",
          "height": 206
        },
        "id": "5QrxgtGM1a-A",
        "outputId": "4babb485-544b-4b61-e957-fdf75c3097bc"
      },
      "execution_count": 99,
      "outputs": [
        {
          "output_type": "execute_result",
          "data": {
            "text/plain": [
              "   edad       sexo     imc  hijos fumador    region        costo\n",
              "0    19   femenino  27.900      0      si  suroeste  16884.92400\n",
              "1    18  masculino  33.770      1      no   sureste   1725.55230\n",
              "2    28  masculino  33.000      3      no   sureste   4449.46200\n",
              "3    33  masculino  22.705      0      no  noroeste  21984.47061\n",
              "4    32  masculino  28.880      0      no  noroeste   3866.85520"
            ],
            "text/html": [
              "\n",
              "  <div id=\"df-89c2d1a3-6a72-47d6-a353-0cfa29a44ab2\">\n",
              "    <div class=\"colab-df-container\">\n",
              "      <div>\n",
              "<style scoped>\n",
              "    .dataframe tbody tr th:only-of-type {\n",
              "        vertical-align: middle;\n",
              "    }\n",
              "\n",
              "    .dataframe tbody tr th {\n",
              "        vertical-align: top;\n",
              "    }\n",
              "\n",
              "    .dataframe thead th {\n",
              "        text-align: right;\n",
              "    }\n",
              "</style>\n",
              "<table border=\"1\" class=\"dataframe\">\n",
              "  <thead>\n",
              "    <tr style=\"text-align: right;\">\n",
              "      <th></th>\n",
              "      <th>edad</th>\n",
              "      <th>sexo</th>\n",
              "      <th>imc</th>\n",
              "      <th>hijos</th>\n",
              "      <th>fumador</th>\n",
              "      <th>region</th>\n",
              "      <th>costo</th>\n",
              "    </tr>\n",
              "  </thead>\n",
              "  <tbody>\n",
              "    <tr>\n",
              "      <th>0</th>\n",
              "      <td>19</td>\n",
              "      <td>femenino</td>\n",
              "      <td>27.900</td>\n",
              "      <td>0</td>\n",
              "      <td>si</td>\n",
              "      <td>suroeste</td>\n",
              "      <td>16884.92400</td>\n",
              "    </tr>\n",
              "    <tr>\n",
              "      <th>1</th>\n",
              "      <td>18</td>\n",
              "      <td>masculino</td>\n",
              "      <td>33.770</td>\n",
              "      <td>1</td>\n",
              "      <td>no</td>\n",
              "      <td>sureste</td>\n",
              "      <td>1725.55230</td>\n",
              "    </tr>\n",
              "    <tr>\n",
              "      <th>2</th>\n",
              "      <td>28</td>\n",
              "      <td>masculino</td>\n",
              "      <td>33.000</td>\n",
              "      <td>3</td>\n",
              "      <td>no</td>\n",
              "      <td>sureste</td>\n",
              "      <td>4449.46200</td>\n",
              "    </tr>\n",
              "    <tr>\n",
              "      <th>3</th>\n",
              "      <td>33</td>\n",
              "      <td>masculino</td>\n",
              "      <td>22.705</td>\n",
              "      <td>0</td>\n",
              "      <td>no</td>\n",
              "      <td>noroeste</td>\n",
              "      <td>21984.47061</td>\n",
              "    </tr>\n",
              "    <tr>\n",
              "      <th>4</th>\n",
              "      <td>32</td>\n",
              "      <td>masculino</td>\n",
              "      <td>28.880</td>\n",
              "      <td>0</td>\n",
              "      <td>no</td>\n",
              "      <td>noroeste</td>\n",
              "      <td>3866.85520</td>\n",
              "    </tr>\n",
              "  </tbody>\n",
              "</table>\n",
              "</div>\n",
              "      <button class=\"colab-df-convert\" onclick=\"convertToInteractive('df-89c2d1a3-6a72-47d6-a353-0cfa29a44ab2')\"\n",
              "              title=\"Convert this dataframe to an interactive table.\"\n",
              "              style=\"display:none;\">\n",
              "        \n",
              "  <svg xmlns=\"http://www.w3.org/2000/svg\" height=\"24px\"viewBox=\"0 0 24 24\"\n",
              "       width=\"24px\">\n",
              "    <path d=\"M0 0h24v24H0V0z\" fill=\"none\"/>\n",
              "    <path d=\"M18.56 5.44l.94 2.06.94-2.06 2.06-.94-2.06-.94-.94-2.06-.94 2.06-2.06.94zm-11 1L8.5 8.5l.94-2.06 2.06-.94-2.06-.94L8.5 2.5l-.94 2.06-2.06.94zm10 10l.94 2.06.94-2.06 2.06-.94-2.06-.94-.94-2.06-.94 2.06-2.06.94z\"/><path d=\"M17.41 7.96l-1.37-1.37c-.4-.4-.92-.59-1.43-.59-.52 0-1.04.2-1.43.59L10.3 9.45l-7.72 7.72c-.78.78-.78 2.05 0 2.83L4 21.41c.39.39.9.59 1.41.59.51 0 1.02-.2 1.41-.59l7.78-7.78 2.81-2.81c.8-.78.8-2.07 0-2.86zM5.41 20L4 18.59l7.72-7.72 1.47 1.35L5.41 20z\"/>\n",
              "  </svg>\n",
              "      </button>\n",
              "      \n",
              "  <style>\n",
              "    .colab-df-container {\n",
              "      display:flex;\n",
              "      flex-wrap:wrap;\n",
              "      gap: 12px;\n",
              "    }\n",
              "\n",
              "    .colab-df-convert {\n",
              "      background-color: #E8F0FE;\n",
              "      border: none;\n",
              "      border-radius: 50%;\n",
              "      cursor: pointer;\n",
              "      display: none;\n",
              "      fill: #1967D2;\n",
              "      height: 32px;\n",
              "      padding: 0 0 0 0;\n",
              "      width: 32px;\n",
              "    }\n",
              "\n",
              "    .colab-df-convert:hover {\n",
              "      background-color: #E2EBFA;\n",
              "      box-shadow: 0px 1px 2px rgba(60, 64, 67, 0.3), 0px 1px 3px 1px rgba(60, 64, 67, 0.15);\n",
              "      fill: #174EA6;\n",
              "    }\n",
              "\n",
              "    [theme=dark] .colab-df-convert {\n",
              "      background-color: #3B4455;\n",
              "      fill: #D2E3FC;\n",
              "    }\n",
              "\n",
              "    [theme=dark] .colab-df-convert:hover {\n",
              "      background-color: #434B5C;\n",
              "      box-shadow: 0px 1px 3px 1px rgba(0, 0, 0, 0.15);\n",
              "      filter: drop-shadow(0px 1px 2px rgba(0, 0, 0, 0.3));\n",
              "      fill: #FFFFFF;\n",
              "    }\n",
              "  </style>\n",
              "\n",
              "      <script>\n",
              "        const buttonEl =\n",
              "          document.querySelector('#df-89c2d1a3-6a72-47d6-a353-0cfa29a44ab2 button.colab-df-convert');\n",
              "        buttonEl.style.display =\n",
              "          google.colab.kernel.accessAllowed ? 'block' : 'none';\n",
              "\n",
              "        async function convertToInteractive(key) {\n",
              "          const element = document.querySelector('#df-89c2d1a3-6a72-47d6-a353-0cfa29a44ab2');\n",
              "          const dataTable =\n",
              "            await google.colab.kernel.invokeFunction('convertToInteractive',\n",
              "                                                     [key], {});\n",
              "          if (!dataTable) return;\n",
              "\n",
              "          const docLinkHtml = 'Like what you see? Visit the ' +\n",
              "            '<a target=\"_blank\" href=https://colab.research.google.com/notebooks/data_table.ipynb>data table notebook</a>'\n",
              "            + ' to learn more about interactive tables.';\n",
              "          element.innerHTML = '';\n",
              "          dataTable['output_type'] = 'display_data';\n",
              "          await google.colab.output.renderOutput(dataTable, element);\n",
              "          const docLink = document.createElement('div');\n",
              "          docLink.innerHTML = docLinkHtml;\n",
              "          element.appendChild(docLink);\n",
              "        }\n",
              "      </script>\n",
              "    </div>\n",
              "  </div>\n",
              "  "
            ]
          },
          "metadata": {},
          "execution_count": 99
        }
      ]
    },
    {
      "cell_type": "code",
      "source": [
        "#data.describe(include ='all')"
      ],
      "metadata": {
        "id": "y_fMyjpRjb-J"
      },
      "execution_count": 100,
      "outputs": []
    },
    {
      "cell_type": "code",
      "source": [
        "#data.describe()"
      ],
      "metadata": {
        "id": "EL0MxLcwoosy"
      },
      "execution_count": 101,
      "outputs": []
    },
    {
      "cell_type": "code",
      "source": [
        "#print(data.dtypes)"
      ],
      "metadata": {
        "id": "X6lB7dxWX_Yf"
      },
      "execution_count": 102,
      "outputs": []
    },
    {
      "cell_type": "code",
      "source": [
        "# Vemos la forma de la data\n",
        "data.shape"
      ],
      "metadata": {
        "id": "7drUk04aJSMx",
        "colab": {
          "base_uri": "https://localhost:8080/"
        },
        "outputId": "876699cc-9e5e-4ce6-acdc-3770899938b9"
      },
      "execution_count": 103,
      "outputs": [
        {
          "output_type": "execute_result",
          "data": {
            "text/plain": [
              "(1338, 7)"
            ]
          },
          "metadata": {},
          "execution_count": 103
        }
      ]
    },
    {
      "cell_type": "code",
      "source": [
        "#Observamos los tipo de datos\n",
        "#print(data.dtypes)"
      ],
      "metadata": {
        "id": "csFj8pqG2Xon"
      },
      "execution_count": 104,
      "outputs": []
    },
    {
      "cell_type": "code",
      "source": [
        "#data.isna().sum()"
      ],
      "metadata": {
        "id": "7AaKkO5XCMET"
      },
      "execution_count": 148,
      "outputs": []
    },
    {
      "cell_type": "code",
      "source": [
        "#verificamos los encabezado de la data\n",
        "#data.columns"
      ],
      "metadata": {
        "id": "1AgWzLe7KM41"
      },
      "execution_count": 106,
      "outputs": []
    },
    {
      "cell_type": "code",
      "source": [
        "data.dtypes"
      ],
      "metadata": {
        "colab": {
          "base_uri": "https://localhost:8080/"
        },
        "id": "OObPYwWgWrwG",
        "outputId": "47b0378f-d878-4777-c2eb-7ff53670539b"
      },
      "execution_count": 107,
      "outputs": [
        {
          "output_type": "execute_result",
          "data": {
            "text/plain": [
              "edad         int64\n",
              "sexo        object\n",
              "imc        float64\n",
              "hijos        int64\n",
              "fumador     object\n",
              "region      object\n",
              "costo      float64\n",
              "dtype: object"
            ]
          },
          "metadata": {},
          "execution_count": 107
        }
      ]
    },
    {
      "cell_type": "markdown",
      "source": [
        "### Remplazando valore perdidos"
      ],
      "metadata": {
        "id": "aQ8ng98CP8y0"
      }
    },
    {
      "cell_type": "code",
      "source": [
        "# Reemplazar \"?\" por NaN, notengo valores perdidos\n",
        "#data.replace(\"?\", np.nan, inplace = True)\n",
        "#data.head(5)"
      ],
      "metadata": {
        "id": "Xk_y9YRbPLrm"
      },
      "execution_count": 108,
      "outputs": []
    },
    {
      "cell_type": "markdown",
      "source": [
        "## Evaluando los datos"
      ],
      "metadata": {
        "id": "4gNoDbR9QKv1"
      }
    },
    {
      "cell_type": "code",
      "source": [
        "#missing_data = data.isnull()\n",
        "#missing_data.head(5)"
      ],
      "metadata": {
        "id": "-hyBP0UOQQzE"
      },
      "execution_count": 109,
      "outputs": []
    },
    {
      "cell_type": "markdown",
      "source": [
        "Contar los valores perdidos de cada columna"
      ],
      "metadata": {
        "id": "ZBdRGr-eQrTL"
      }
    },
    {
      "cell_type": "code",
      "source": [
        "#for column in missing_data.columns.values.tolist():\n",
        " #   print(column)\n",
        " #   print (missing_data[column].value_counts())\n",
        " #   print(\"\")    "
      ],
      "metadata": {
        "id": "B0-la4vAQxIR"
      },
      "execution_count": 110,
      "outputs": []
    },
    {
      "cell_type": "markdown",
      "source": [
        "Para contar los valores perdidos que hay en cada atributo.\n",
        "\n",
        "El resumen de los valores perdidos para los atributos del dataset.\n",
        " (.isnull(), .notnull(), y .isna()).) despues .sum() "
      ],
      "metadata": {
        "id": "wMK2VwTQRfzE"
      }
    },
    {
      "cell_type": "code",
      "source": [
        "data.isna().sum()"
      ],
      "metadata": {
        "colab": {
          "base_uri": "https://localhost:8080/"
        },
        "id": "YQ_6FUPjRt78",
        "outputId": "6dc7c758-6116-4d33-b7bd-0c1a0d18ba90"
      },
      "execution_count": 111,
      "outputs": [
        {
          "output_type": "execute_result",
          "data": {
            "text/plain": [
              "edad       0\n",
              "sexo       0\n",
              "imc        0\n",
              "hijos      0\n",
              "fumador    0\n",
              "region     0\n",
              "costo      0\n",
              "dtype: int64"
            ]
          },
          "metadata": {},
          "execution_count": 111
        }
      ]
    },
    {
      "cell_type": "markdown",
      "source": [
        "##Corregir formato de datos"
      ],
      "metadata": {
        "id": "4bPBqcykTzpN"
      }
    },
    {
      "cell_type": "code",
      "source": [
        "#Cambiamos los formatos de los atributos  \n",
        "data[[\"edad\"]] = data[[\"edad\"]].astype(\"int\")\n",
        "data[[\"imc\"]] = data[[\"imc\"]].astype(\"float\")\n",
        "data[[\"hijos\"]] = data[[\"hijos\"]].astype(\"int\")\n",
        "data[[\"costo\"]] = data[[\"costo\"]].astype(\"float\")"
      ],
      "metadata": {
        "id": "YmUQYty7Lwme"
      },
      "execution_count": 112,
      "outputs": []
    },
    {
      "cell_type": "markdown",
      "source": [
        "#Estandarización de los tipo de datos\n",
        "La fórmula para la conversión es: L/100km = 235 / mpg"
      ],
      "metadata": {
        "id": "oVmbI_KqUZ0k"
      }
    },
    {
      "cell_type": "code",
      "source": [
        "#Ejemplo\n",
        "#data[''] = 235/data[\"\"]"
      ],
      "metadata": {
        "id": "GYabpobIUddm"
      },
      "execution_count": 113,
      "outputs": []
    },
    {
      "cell_type": "markdown",
      "source": [
        "## Normalizar la colunmas"
      ],
      "metadata": {
        "id": "WgP1rNREPgPJ"
      }
    },
    {
      "cell_type": "code",
      "source": [
        "# NOrmalizamos los atributos para que queden entre 0 y 1\n",
        "data['edad'] = data['edad']/data['edad'].max()\n",
        "data['imc'] = data['imc']/data['imc'].max()\n",
        "data['costo'] = data['costo']/data['costo'].max()"
      ],
      "metadata": {
        "id": "vZIkh2k7Pfj5"
      },
      "execution_count": 114,
      "outputs": []
    },
    {
      "cell_type": "markdown",
      "source": [
        "##Discretizar valores\n",
        "### Sin aplicar"
      ],
      "metadata": {
        "id": "CDUmRDAPhGv4"
      }
    },
    {
      "cell_type": "code",
      "source": [
        "#data.head(5)\n",
        "#data.tail(5)"
      ],
      "metadata": {
        "id": "U2tWyYCwPm1g"
      },
      "execution_count": 115,
      "outputs": []
    },
    {
      "cell_type": "markdown",
      "source": [
        "##Variable indicadora (o variable ficticia)"
      ],
      "metadata": {
        "id": "HYnCbiJXpjFB"
      }
    },
    {
      "cell_type": "code",
      "source": [
        "dummy_variable_1 = pd.get_dummies(data[\"sexo\"])\n",
        "#dummy_variable_1.head(50)"
      ],
      "metadata": {
        "id": "Fspha0F3ppSB"
      },
      "execution_count": 116,
      "outputs": []
    },
    {
      "cell_type": "code",
      "source": [
        "dummy_variable_1.rename(columns={'femenino':'genero-femenino', 'masculino':'genero-masculino'}, inplace=True)\n",
        "#dummy_variable_1.head()"
      ],
      "metadata": {
        "id": "HHONrLvgp8wC"
      },
      "execution_count": 117,
      "outputs": []
    },
    {
      "cell_type": "code",
      "source": [
        "#data.describe()"
      ],
      "metadata": {
        "id": "690kxbhwP2pQ"
      },
      "execution_count": 150,
      "outputs": []
    },
    {
      "cell_type": "code",
      "source": [
        "#from google.colab import files\n",
        "#data.to_excel(\"dataset_fumadores.xlsx\")\n",
        "#files.download(\"dataset_fumadores.xlsx\")"
      ],
      "metadata": {
        "id": "VZ3eulvKpnxB"
      },
      "execution_count": 119,
      "outputs": []
    },
    {
      "cell_type": "code",
      "source": [
        "#miramos numero duplicado\n",
        "data.duplicated().sum()\n",
        "     "
      ],
      "metadata": {
        "id": "kg3a90kNR8sR",
        "colab": {
          "base_uri": "https://localhost:8080/"
        },
        "outputId": "95406d5f-b713-4408-c238-16eccfe2e12c"
      },
      "execution_count": 151,
      "outputs": [
        {
          "output_type": "execute_result",
          "data": {
            "text/plain": [
              "1"
            ]
          },
          "metadata": {},
          "execution_count": 151
        }
      ]
    },
    {
      "cell_type": "code",
      "source": [
        "#para contar las veces que se repiete un valor\n",
        "#data.hijos.value_counts()"
      ],
      "metadata": {
        "id": "cMES4vy_8jQ1"
      },
      "execution_count": 158,
      "outputs": []
    },
    {
      "cell_type": "code",
      "source": [
        "#data.hijos.value_counts(\"normalize = True\")\n",
        "     "
      ],
      "metadata": {
        "id": "dtjDLi529F5l"
      },
      "execution_count": 159,
      "outputs": []
    },
    {
      "cell_type": "code",
      "source": [
        "data.hijos.value_counts().plot(kind=\"bar\")\n",
        "plt.title(\"Cantidad de Hijos \")\n",
        "plt.xlabel(\"Hijos\")\n",
        "plt.xticks(rotation=0)\n",
        "plt.ylabel(\"Total Hijos\")\n",
        "#plt.show()"
      ],
      "metadata": {
        "id": "L7j4w-QQ9jHm",
        "colab": {
          "base_uri": "https://localhost:8080/",
          "height": 312
        },
        "outputId": "5de6216f-f421-46c3-9adc-35b82ce6e1dc"
      },
      "execution_count": 160,
      "outputs": [
        {
          "output_type": "execute_result",
          "data": {
            "text/plain": [
              "Text(0, 0.5, 'Total Hijos')"
            ]
          },
          "metadata": {},
          "execution_count": 160
        },
        {
          "output_type": "display_data",
          "data": {
            "text/plain": [
              "<Figure size 432x288 with 1 Axes>"
            ],
            "image/png": "[encoded data removed]"
          },
          "metadata": {
            "needs_background": "light"
          }
        }
      ]
    },
    {
      "cell_type": "markdown",
      "source": [
        "##One_hot_encodign"
      ],
      "metadata": {
        "id": "b75D3cn7EMaw"
      }
    },
    {
      "cell_type": "code",
      "source": [
        "\n",
        "print(data.info)"
      ],
      "metadata": {
        "colab": {
          "base_uri": "https://localhost:8080/"
        },
        "id": "Cczx6zYoEbZI",
        "outputId": "2f8cfe9b-7900-40b6-cf2d-59e896aba4bc"
      },
      "execution_count": 124,
      "outputs": [
        {
          "output_type": "stream",
          "name": "stdout",
          "text": [
            "<bound method DataFrame.info of           edad       sexo       imc  hijos fumador    region     costo\n",
            "0     0.296875   femenino  0.525127      0      si  suroeste  0.264777\n",
            "1     0.281250  masculino  0.635611      1      no   sureste  0.027059\n",
            "2     0.437500  masculino  0.621118      3      no   sureste  0.069773\n",
            "3     0.515625  masculino  0.427348      0      no  noroeste  0.344744\n",
            "4     0.500000  masculino  0.543572      0      no  noroeste  0.060637\n",
            "...        ...        ...       ...    ...     ...       ...       ...\n",
            "1333  0.781250  masculino  0.582910      3      no  noroeste  0.166230\n",
            "1334  0.281250   femenino  0.600791      0      no   noreste  0.034593\n",
            "1335  0.281250   femenino  0.693582      0      no   sureste  0.025558\n",
            "1336  0.328125   femenino  0.485601      0      no  suroeste  0.031487\n",
            "1337  0.953125   femenino  0.547149      0      si  noroeste  0.456973\n",
            "\n",
            "[1338 rows x 7 columns]>\n"
          ]
        }
      ]
    },
    {
      "cell_type": "code",
      "source": [
        "# importing one hot encoder \n",
        "from sklearn.preprocessing import OneHotEncoder\n",
        "\n",
        "# Creamos el objeto\n",
        "onehotencoder = OneHotEncoder()\n",
        "\n",
        "#reshape the 1-D country array to 2-D as fit_transform expects 2-D and finally fit the object \n",
        "\n"
      ],
      "metadata": {
        "id": "RI8OZhMGH45a"
      },
      "execution_count": 125,
      "outputs": []
    },
    {
      "cell_type": "code",
      "source": [
        "S = onehotencoder.fit_transform(data.sexo.values.reshape(-1,1)).toarray()\n",
        "S\n"
      ],
      "metadata": {
        "colab": {
          "base_uri": "https://localhost:8080/"
        },
        "id": "8aayRGSQMY6D",
        "outputId": "84bdecf0-9e6f-4388-9d0e-e3e0af90afe9"
      },
      "execution_count": 126,
      "outputs": [
        {
          "output_type": "execute_result",
          "data": {
            "text/plain": [
              "array([[1., 0.],\n",
              "       [0., 1.],\n",
              "       [0., 1.],\n",
              "       ...,\n",
              "       [1., 0.],\n",
              "       [1., 0.],\n",
              "       [1., 0.]])"
            ]
          },
          "metadata": {},
          "execution_count": 126
        }
      ]
    },
    {
      "cell_type": "code",
      "source": [
        "dfOneHotS = pd.DataFrame(S, columns = [\"sexo\"+str(int(i)) for i in range(S.shape[1])]) "
      ],
      "metadata": {
        "id": "FURVwpvXIIHA"
      },
      "execution_count": 127,
      "outputs": []
    },
    {
      "cell_type": "code",
      "source": [
        "df = pd.concat([data, dfOneHotS], axis=1)\n",
        "#df"
      ],
      "metadata": {
        "id": "1L6PDF93IgdV"
      },
      "execution_count": 128,
      "outputs": []
    },
    {
      "cell_type": "code",
      "source": [
        "F = onehotencoder.fit_transform(data.fumador.values.reshape(-1,1)).toarray()\n",
        "F"
      ],
      "metadata": {
        "colab": {
          "base_uri": "https://localhost:8080/"
        },
        "id": "E22HTsnZIhpo",
        "outputId": "9d68518b-a168-4267-c4d1-f5a114d1255b"
      },
      "execution_count": 129,
      "outputs": [
        {
          "output_type": "execute_result",
          "data": {
            "text/plain": [
              "array([[0., 1.],\n",
              "       [1., 0.],\n",
              "       [1., 0.],\n",
              "       ...,\n",
              "       [1., 0.],\n",
              "       [1., 0.],\n",
              "       [0., 1.]])"
            ]
          },
          "metadata": {},
          "execution_count": 129
        }
      ]
    },
    {
      "cell_type": "code",
      "source": [
        "dfOneHotF = pd.DataFrame(F, columns = [\"fumador\"+str(int(i)) for i in range(S.shape[1])]) "
      ],
      "metadata": {
        "id": "RmeTRMG-JUTM"
      },
      "execution_count": 130,
      "outputs": []
    },
    {
      "cell_type": "code",
      "source": [
        "data = pd.concat([data,dfOneHotS, dfOneHotF,], axis=1)\n",
        "#data"
      ],
      "metadata": {
        "id": "UZNj9AtGJcvM"
      },
      "execution_count": 131,
      "outputs": []
    },
    {
      "cell_type": "code",
      "source": [
        "data= data.drop(['sexo','fumador'], axis=1) \n",
        "data.head(5)"
      ],
      "metadata": {
        "colab": {
          "base_uri": "https://localhost:8080/",
          "height": 206
        },
        "id": "28PWBrruKCsi",
        "outputId": "bbb604e3-2dc4-4b30-b774-d98fc2944c3b"
      },
      "execution_count": 132,
      "outputs": [
        {
          "output_type": "execute_result",
          "data": {
            "text/plain": [
              "       edad       imc  hijos    region     costo  sexo0  sexo1  fumador0  \\\n",
              "0  0.296875  0.525127      0  suroeste  0.264777    1.0    0.0       0.0   \n",
              "1  0.281250  0.635611      1   sureste  0.027059    0.0    1.0       1.0   \n",
              "2  0.437500  0.621118      3   sureste  0.069773    0.0    1.0       1.0   \n",
              "3  0.515625  0.427348      0  noroeste  0.344744    0.0    1.0       1.0   \n",
              "4  0.500000  0.543572      0  noroeste  0.060637    0.0    1.0       1.0   \n",
              "\n",
              "   fumador1  \n",
              "0       1.0  \n",
              "1       0.0  \n",
              "2       0.0  \n",
              "3       0.0  \n",
              "4       0.0  "
            ],
            "text/html": [
              "\n",
              "  <div id=\"df-5d5afba7-032e-44f5-8f2d-bdf6cb55d67d\">\n",
              "    <div class=\"colab-df-container\">\n",
              "      <div>\n",
              "<style scoped>\n",
              "    .dataframe tbody tr th:only-of-type {\n",
              "        vertical-align: middle;\n",
              "    }\n",
              "\n",
              "    .dataframe tbody tr th {\n",
              "        vertical-align: top;\n",
              "    }\n",
              "\n",
              "    .dataframe thead th {\n",
              "        text-align: right;\n",
              "    }\n",
              "</style>\n",
              "<table border=\"1\" class=\"dataframe\">\n",
              "  <thead>\n",
              "    <tr style=\"text-align: right;\">\n",
              "      <th></th>\n",
              "      <th>edad</th>\n",
              "      <th>imc</th>\n",
              "      <th>hijos</th>\n",
              "      <th>region</th>\n",
              "      <th>costo</th>\n",
              "      <th>sexo0</th>\n",
              "      <th>sexo1</th>\n",
              "      <th>fumador0</th>\n",
              "      <th>fumador1</th>\n",
              "    </tr>\n",
              "  </thead>\n",
              "  <tbody>\n",
              "    <tr>\n",
              "      <th>0</th>\n",
              "      <td>0.296875</td>\n",
              "      <td>0.525127</td>\n",
              "      <td>0</td>\n",
              "      <td>suroeste</td>\n",
              "      <td>0.264777</td>\n",
              "      <td>1.0</td>\n",
              "      <td>0.0</td>\n",
              "      <td>0.0</td>\n",
              "      <td>1.0</td>\n",
              "    </tr>\n",
              "    <tr>\n",
              "      <th>1</th>\n",
              "      <td>0.281250</td>\n",
              "      <td>0.635611</td>\n",
              "      <td>1</td>\n",
              "      <td>sureste</td>\n",
              "      <td>0.027059</td>\n",
              "      <td>0.0</td>\n",
              "      <td>1.0</td>\n",
              "      <td>1.0</td>\n",
              "      <td>0.0</td>\n",
              "    </tr>\n",
              "    <tr>\n",
              "      <th>2</th>\n",
              "      <td>0.437500</td>\n",
              "      <td>0.621118</td>\n",
              "      <td>3</td>\n",
              "      <td>sureste</td>\n",
              "      <td>0.069773</td>\n",
              "      <td>0.0</td>\n",
              "      <td>1.0</td>\n",
              "      <td>1.0</td>\n",
              "      <td>0.0</td>\n",
              "    </tr>\n",
              "    <tr>\n",
              "      <th>3</th>\n",
              "      <td>0.515625</td>\n",
              "      <td>0.427348</td>\n",
              "      <td>0</td>\n",
              "      <td>noroeste</td>\n",
              "      <td>0.344744</td>\n",
              "      <td>0.0</td>\n",
              "      <td>1.0</td>\n",
              "      <td>1.0</td>\n",
              "      <td>0.0</td>\n",
              "    </tr>\n",
              "    <tr>\n",
              "      <th>4</th>\n",
              "      <td>0.500000</td>\n",
              "      <td>0.543572</td>\n",
              "      <td>0</td>\n",
              "      <td>noroeste</td>\n",
              "      <td>0.060637</td>\n",
              "      <td>0.0</td>\n",
              "      <td>1.0</td>\n",
              "      <td>1.0</td>\n",
              "      <td>0.0</td>\n",
              "    </tr>\n",
              "  </tbody>\n",
              "</table>\n",
              "</div>\n",
              "      <button class=\"colab-df-convert\" onclick=\"convertToInteractive('df-5d5afba7-032e-44f5-8f2d-bdf6cb55d67d')\"\n",
              "              title=\"Convert this dataframe to an interactive table.\"\n",
              "              style=\"display:none;\">\n",
              "        \n",
              "  <svg xmlns=\"http://www.w3.org/2000/svg\" height=\"24px\"viewBox=\"0 0 24 24\"\n",
              "       width=\"24px\">\n",
              "    <path d=\"M0 0h24v24H0V0z\" fill=\"none\"/>\n",
              "    <path d=\"M18.56 5.44l.94 2.06.94-2.06 2.06-.94-2.06-.94-.94-2.06-.94 2.06-2.06.94zm-11 1L8.5 8.5l.94-2.06 2.06-.94-2.06-.94L8.5 2.5l-.94 2.06-2.06.94zm10 10l.94 2.06.94-2.06 2.06-.94-2.06-.94-.94-2.06-.94 2.06-2.06.94z\"/><path d=\"M17.41 7.96l-1.37-1.37c-.4-.4-.92-.59-1.43-.59-.52 0-1.04.2-1.43.59L10.3 9.45l-7.72 7.72c-.78.78-.78 2.05 0 2.83L4 21.41c.39.39.9.59 1.41.59.51 0 1.02-.2 1.41-.59l7.78-7.78 2.81-2.81c.8-.78.8-2.07 0-2.86zM5.41 20L4 18.59l7.72-7.72 1.47 1.35L5.41 20z\"/>\n",
              "  </svg>\n",
              "      </button>\n",
              "      \n",
              "  <style>\n",
              "    .colab-df-container {\n",
              "      display:flex;\n",
              "      flex-wrap:wrap;\n",
              "      gap: 12px;\n",
              "    }\n",
              "\n",
              "    .colab-df-convert {\n",
              "      background-color: #E8F0FE;\n",
              "      border: none;\n",
              "      border-radius: 50%;\n",
              "      cursor: pointer;\n",
              "      display: none;\n",
              "      fill: #1967D2;\n",
              "      height: 32px;\n",
              "      padding: 0 0 0 0;\n",
              "      width: 32px;\n",
              "    }\n",
              "\n",
              "    .colab-df-convert:hover {\n",
              "      background-color: #E2EBFA;\n",
              "      box-shadow: 0px 1px 2px rgba(60, 64, 67, 0.3), 0px 1px 3px 1px rgba(60, 64, 67, 0.15);\n",
              "      fill: #174EA6;\n",
              "    }\n",
              "\n",
              "    [theme=dark] .colab-df-convert {\n",
              "      background-color: #3B4455;\n",
              "      fill: #D2E3FC;\n",
              "    }\n",
              "\n",
              "    [theme=dark] .colab-df-convert:hover {\n",
              "      background-color: #434B5C;\n",
              "      box-shadow: 0px 1px 3px 1px rgba(0, 0, 0, 0.15);\n",
              "      filter: drop-shadow(0px 1px 2px rgba(0, 0, 0, 0.3));\n",
              "      fill: #FFFFFF;\n",
              "    }\n",
              "  </style>\n",
              "\n",
              "      <script>\n",
              "        const buttonEl =\n",
              "          document.querySelector('#df-5d5afba7-032e-44f5-8f2d-bdf6cb55d67d button.colab-df-convert');\n",
              "        buttonEl.style.display =\n",
              "          google.colab.kernel.accessAllowed ? 'block' : 'none';\n",
              "\n",
              "        async function convertToInteractive(key) {\n",
              "          const element = document.querySelector('#df-5d5afba7-032e-44f5-8f2d-bdf6cb55d67d');\n",
              "          const dataTable =\n",
              "            await google.colab.kernel.invokeFunction('convertToInteractive',\n",
              "                                                     [key], {});\n",
              "          if (!dataTable) return;\n",
              "\n",
              "          const docLinkHtml = 'Like what you see? Visit the ' +\n",
              "            '<a target=\"_blank\" href=https://colab.research.google.com/notebooks/data_table.ipynb>data table notebook</a>'\n",
              "            + ' to learn more about interactive tables.';\n",
              "          element.innerHTML = '';\n",
              "          dataTable['output_type'] = 'display_data';\n",
              "          await google.colab.output.renderOutput(dataTable, element);\n",
              "          const docLink = document.createElement('div');\n",
              "          docLink.innerHTML = docLinkHtml;\n",
              "          element.appendChild(docLink);\n",
              "        }\n",
              "      </script>\n",
              "    </div>\n",
              "  </div>\n",
              "  "
            ]
          },
          "metadata": {},
          "execution_count": 132
        }
      ]
    },
    {
      "cell_type": "code",
      "source": [
        "data = data.dropna()"
      ],
      "metadata": {
        "id": "IyaBNlloKH5J"
      },
      "execution_count": 133,
      "outputs": []
    },
    {
      "cell_type": "code",
      "source": [
        "data.head(5)"
      ],
      "metadata": {
        "colab": {
          "base_uri": "https://localhost:8080/",
          "height": 206
        },
        "id": "UXbqxp1TNWwR",
        "outputId": "6c03cda2-7d20-4af4-b031-70fd34989fa1"
      },
      "execution_count": 134,
      "outputs": [
        {
          "output_type": "execute_result",
          "data": {
            "text/plain": [
              "       edad       imc  hijos    region     costo  sexo0  sexo1  fumador0  \\\n",
              "0  0.296875  0.525127      0  suroeste  0.264777    1.0    0.0       0.0   \n",
              "1  0.281250  0.635611      1   sureste  0.027059    0.0    1.0       1.0   \n",
              "2  0.437500  0.621118      3   sureste  0.069773    0.0    1.0       1.0   \n",
              "3  0.515625  0.427348      0  noroeste  0.344744    0.0    1.0       1.0   \n",
              "4  0.500000  0.543572      0  noroeste  0.060637    0.0    1.0       1.0   \n",
              "\n",
              "   fumador1  \n",
              "0       1.0  \n",
              "1       0.0  \n",
              "2       0.0  \n",
              "3       0.0  \n",
              "4       0.0  "
            ],
            "text/html": [
              "\n",
              "  <div id=\"df-aef7553f-51f1-4c4b-877e-d94e2ce5f31f\">\n",
              "    <div class=\"colab-df-container\">\n",
              "      <div>\n",
              "<style scoped>\n",
              "    .dataframe tbody tr th:only-of-type {\n",
              "        vertical-align: middle;\n",
              "    }\n",
              "\n",
              "    .dataframe tbody tr th {\n",
              "        vertical-align: top;\n",
              "    }\n",
              "\n",
              "    .dataframe thead th {\n",
              "        text-align: right;\n",
              "    }\n",
              "</style>\n",
              "<table border=\"1\" class=\"dataframe\">\n",
              "  <thead>\n",
              "    <tr style=\"text-align: right;\">\n",
              "      <th></th>\n",
              "      <th>edad</th>\n",
              "      <th>imc</th>\n",
              "      <th>hijos</th>\n",
              "      <th>region</th>\n",
              "      <th>costo</th>\n",
              "      <th>sexo0</th>\n",
              "      <th>sexo1</th>\n",
              "      <th>fumador0</th>\n",
              "      <th>fumador1</th>\n",
              "    </tr>\n",
              "  </thead>\n",
              "  <tbody>\n",
              "    <tr>\n",
              "      <th>0</th>\n",
              "      <td>0.296875</td>\n",
              "      <td>0.525127</td>\n",
              "      <td>0</td>\n",
              "      <td>suroeste</td>\n",
              "      <td>0.264777</td>\n",
              "      <td>1.0</td>\n",
              "      <td>0.0</td>\n",
              "      <td>0.0</td>\n",
              "      <td>1.0</td>\n",
              "    </tr>\n",
              "    <tr>\n",
              "      <th>1</th>\n",
              "      <td>0.281250</td>\n",
              "      <td>0.635611</td>\n",
              "      <td>1</td>\n",
              "      <td>sureste</td>\n",
              "      <td>0.027059</td>\n",
              "      <td>0.0</td>\n",
              "      <td>1.0</td>\n",
              "      <td>1.0</td>\n",
              "      <td>0.0</td>\n",
              "    </tr>\n",
              "    <tr>\n",
              "      <th>2</th>\n",
              "      <td>0.437500</td>\n",
              "      <td>0.621118</td>\n",
              "      <td>3</td>\n",
              "      <td>sureste</td>\n",
              "      <td>0.069773</td>\n",
              "      <td>0.0</td>\n",
              "      <td>1.0</td>\n",
              "      <td>1.0</td>\n",
              "      <td>0.0</td>\n",
              "    </tr>\n",
              "    <tr>\n",
              "      <th>3</th>\n",
              "      <td>0.515625</td>\n",
              "      <td>0.427348</td>\n",
              "      <td>0</td>\n",
              "      <td>noroeste</td>\n",
              "      <td>0.344744</td>\n",
              "      <td>0.0</td>\n",
              "      <td>1.0</td>\n",
              "      <td>1.0</td>\n",
              "      <td>0.0</td>\n",
              "    </tr>\n",
              "    <tr>\n",
              "      <th>4</th>\n",
              "      <td>0.500000</td>\n",
              "      <td>0.543572</td>\n",
              "      <td>0</td>\n",
              "      <td>noroeste</td>\n",
              "      <td>0.060637</td>\n",
              "      <td>0.0</td>\n",
              "      <td>1.0</td>\n",
              "      <td>1.0</td>\n",
              "      <td>0.0</td>\n",
              "    </tr>\n",
              "  </tbody>\n",
              "</table>\n",
              "</div>\n",
              "      <button class=\"colab-df-convert\" onclick=\"convertToInteractive('df-aef7553f-51f1-4c4b-877e-d94e2ce5f31f')\"\n",
              "              title=\"Convert this dataframe to an interactive table.\"\n",
              "              style=\"display:none;\">\n",
              "        \n",
              "  <svg xmlns=\"http://www.w3.org/2000/svg\" height=\"24px\"viewBox=\"0 0 24 24\"\n",
              "       width=\"24px\">\n",
              "    <path d=\"M0 0h24v24H0V0z\" fill=\"none\"/>\n",
              "    <path d=\"M18.56 5.44l.94 2.06.94-2.06 2.06-.94-2.06-.94-.94-2.06-.94 2.06-2.06.94zm-11 1L8.5 8.5l.94-2.06 2.06-.94-2.06-.94L8.5 2.5l-.94 2.06-2.06.94zm10 10l.94 2.06.94-2.06 2.06-.94-2.06-.94-.94-2.06-.94 2.06-2.06.94z\"/><path d=\"M17.41 7.96l-1.37-1.37c-.4-.4-.92-.59-1.43-.59-.52 0-1.04.2-1.43.59L10.3 9.45l-7.72 7.72c-.78.78-.78 2.05 0 2.83L4 21.41c.39.39.9.59 1.41.59.51 0 1.02-.2 1.41-.59l7.78-7.78 2.81-2.81c.8-.78.8-2.07 0-2.86zM5.41 20L4 18.59l7.72-7.72 1.47 1.35L5.41 20z\"/>\n",
              "  </svg>\n",
              "      </button>\n",
              "      \n",
              "  <style>\n",
              "    .colab-df-container {\n",
              "      display:flex;\n",
              "      flex-wrap:wrap;\n",
              "      gap: 12px;\n",
              "    }\n",
              "\n",
              "    .colab-df-convert {\n",
              "      background-color: #E8F0FE;\n",
              "      border: none;\n",
              "      border-radius: 50%;\n",
              "      cursor: pointer;\n",
              "      display: none;\n",
              "      fill: #1967D2;\n",
              "      height: 32px;\n",
              "      padding: 0 0 0 0;\n",
              "      width: 32px;\n",
              "    }\n",
              "\n",
              "    .colab-df-convert:hover {\n",
              "      background-color: #E2EBFA;\n",
              "      box-shadow: 0px 1px 2px rgba(60, 64, 67, 0.3), 0px 1px 3px 1px rgba(60, 64, 67, 0.15);\n",
              "      fill: #174EA6;\n",
              "    }\n",
              "\n",
              "    [theme=dark] .colab-df-convert {\n",
              "      background-color: #3B4455;\n",
              "      fill: #D2E3FC;\n",
              "    }\n",
              "\n",
              "    [theme=dark] .colab-df-convert:hover {\n",
              "      background-color: #434B5C;\n",
              "      box-shadow: 0px 1px 3px 1px rgba(0, 0, 0, 0.15);\n",
              "      filter: drop-shadow(0px 1px 2px rgba(0, 0, 0, 0.3));\n",
              "      fill: #FFFFFF;\n",
              "    }\n",
              "  </style>\n",
              "\n",
              "      <script>\n",
              "        const buttonEl =\n",
              "          document.querySelector('#df-aef7553f-51f1-4c4b-877e-d94e2ce5f31f button.colab-df-convert');\n",
              "        buttonEl.style.display =\n",
              "          google.colab.kernel.accessAllowed ? 'block' : 'none';\n",
              "\n",
              "        async function convertToInteractive(key) {\n",
              "          const element = document.querySelector('#df-aef7553f-51f1-4c4b-877e-d94e2ce5f31f');\n",
              "          const dataTable =\n",
              "            await google.colab.kernel.invokeFunction('convertToInteractive',\n",
              "                                                     [key], {});\n",
              "          if (!dataTable) return;\n",
              "\n",
              "          const docLinkHtml = 'Like what you see? Visit the ' +\n",
              "            '<a target=\"_blank\" href=https://colab.research.google.com/notebooks/data_table.ipynb>data table notebook</a>'\n",
              "            + ' to learn more about interactive tables.';\n",
              "          element.innerHTML = '';\n",
              "          dataTable['output_type'] = 'display_data';\n",
              "          await google.colab.output.renderOutput(dataTable, element);\n",
              "          const docLink = document.createElement('div');\n",
              "          docLink.innerHTML = docLinkHtml;\n",
              "          element.appendChild(docLink);\n",
              "        }\n",
              "      </script>\n",
              "    </div>\n",
              "  </div>\n",
              "  "
            ]
          },
          "metadata": {},
          "execution_count": 134
        }
      ]
    },
    {
      "cell_type": "code",
      "source": [
        "Re = onehotencoder.fit_transform(data.region.values.reshape(-1,1)).toarray()\n",
        "Re"
      ],
      "metadata": {
        "colab": {
          "base_uri": "https://localhost:8080/"
        },
        "id": "i9iD6eIPNbfa",
        "outputId": "b50b86f5-a8f5-4b1e-b634-d8c840cdd4ce"
      },
      "execution_count": 135,
      "outputs": [
        {
          "output_type": "execute_result",
          "data": {
            "text/plain": [
              "array([[0., 0., 0., 1.],\n",
              "       [0., 0., 1., 0.],\n",
              "       [0., 0., 1., 0.],\n",
              "       ...,\n",
              "       [0., 0., 1., 0.],\n",
              "       [0., 0., 0., 1.],\n",
              "       [0., 1., 0., 0.]])"
            ]
          },
          "metadata": {},
          "execution_count": 135
        }
      ]
    },
    {
      "cell_type": "code",
      "source": [
        "dfOneHotRe = pd.DataFrame(Re, columns = [\"region\"+str(int(i)) for i in range(Re.shape[1])])"
      ],
      "metadata": {
        "id": "5r2rK74SODsp"
      },
      "execution_count": 136,
      "outputs": []
    },
    {
      "cell_type": "code",
      "source": [
        "data = pd.concat([data,dfOneHotRe], axis=1)"
      ],
      "metadata": {
        "id": "x5koLxpXOY5t"
      },
      "execution_count": 137,
      "outputs": []
    },
    {
      "cell_type": "code",
      "source": [
        "data= data.drop(['region'], axis=1) "
      ],
      "metadata": {
        "id": "K-4tPrIJOeqC"
      },
      "execution_count": 138,
      "outputs": []
    },
    {
      "cell_type": "code",
      "source": [
        "#data.head(5)"
      ],
      "metadata": {
        "id": "sC_HMrsNOrAr"
      },
      "execution_count": 139,
      "outputs": []
    },
    {
      "cell_type": "markdown",
      "source": [
        "#Análisis descritivo de la distribución de los datos\n",
        "\n"
      ],
      "metadata": {
        "id": "Ow9pom3HdmKS"
      }
    },
    {
      "cell_type": "code",
      "source": [
        "data.describe(include='all')"
      ],
      "metadata": {
        "colab": {
          "base_uri": "https://localhost:8080/",
          "height": 344
        },
        "id": "5aOxvou9dLry",
        "outputId": "8a3158e1-5614-4a69-b607-77b9bc8f87e3"
      },
      "execution_count": 146,
      "outputs": [
        {
          "output_type": "execute_result",
          "data": {
            "text/plain": [
              "              edad          imc        hijos        costo        sexo0  \\\n",
              "count  1338.000000  1338.000000  1338.000000  1338.000000  1338.000000   \n",
              "mean      0.612610     0.577139     1.094918     0.208097     0.494768   \n",
              "std       0.219531     0.114779     1.205493     0.189900     0.500160   \n",
              "min       0.281250     0.300395     0.000000     0.017592     0.000000   \n",
              "25%       0.421875     0.494942     0.000000     0.074334     0.000000   \n",
              "50%       0.609375     0.572181     1.000000     0.147122     0.000000   \n",
              "75%       0.796875     0.652997     2.000000     0.260935     1.000000   \n",
              "max       1.000000     1.000000     5.000000     1.000000     1.000000   \n",
              "\n",
              "             sexo1     fumador0     fumador1      region0      region1  \\\n",
              "count  1338.000000  1338.000000  1338.000000  1338.000000  1338.000000   \n",
              "mean      0.505232     0.795217     0.204783     0.242152     0.242900   \n",
              "std       0.500160     0.403694     0.403694     0.428546     0.428995   \n",
              "min       0.000000     0.000000     0.000000     0.000000     0.000000   \n",
              "25%       0.000000     1.000000     0.000000     0.000000     0.000000   \n",
              "50%       1.000000     1.000000     0.000000     0.000000     0.000000   \n",
              "75%       1.000000     1.000000     0.000000     0.000000     0.000000   \n",
              "max       1.000000     1.000000     1.000000     1.000000     1.000000   \n",
              "\n",
              "           region2      region3  \n",
              "count  1338.000000  1338.000000  \n",
              "mean      0.272048     0.242900  \n",
              "std       0.445181     0.428995  \n",
              "min       0.000000     0.000000  \n",
              "25%       0.000000     0.000000  \n",
              "50%       0.000000     0.000000  \n",
              "75%       1.000000     0.000000  \n",
              "max       1.000000     1.000000  "
            ],
            "text/html": [
              "\n",
              "  <div id=\"df-dd9a7744-4dfe-4367-bb80-26ed07544dec\">\n",
              "    <div class=\"colab-df-container\">\n",
              "      <div>\n",
              "<style scoped>\n",
              "    .dataframe tbody tr th:only-of-type {\n",
              "        vertical-align: middle;\n",
              "    }\n",
              "\n",
              "    .dataframe tbody tr th {\n",
              "        vertical-align: top;\n",
              "    }\n",
              "\n",
              "    .dataframe thead th {\n",
              "        text-align: right;\n",
              "    }\n",
              "</style>\n",
              "<table border=\"1\" class=\"dataframe\">\n",
              "  <thead>\n",
              "    <tr style=\"text-align: right;\">\n",
              "      <th></th>\n",
              "      <th>edad</th>\n",
              "      <th>imc</th>\n",
              "      <th>hijos</th>\n",
              "      <th>costo</th>\n",
              "      <th>sexo0</th>\n",
              "      <th>sexo1</th>\n",
              "      <th>fumador0</th>\n",
              "      <th>fumador1</th>\n",
              "      <th>region0</th>\n",
              "      <th>region1</th>\n",
              "      <th>region2</th>\n",
              "      <th>region3</th>\n",
              "    </tr>\n",
              "  </thead>\n",
              "  <tbody>\n",
              "    <tr>\n",
              "      <th>count</th>\n",
              "      <td>1338.000000</td>\n",
              "      <td>1338.000000</td>\n",
              "      <td>1338.000000</td>\n",
              "      <td>1338.000000</td>\n",
              "      <td>1338.000000</td>\n",
              "      <td>1338.000000</td>\n",
              "      <td>1338.000000</td>\n",
              "      <td>1338.000000</td>\n",
              "      <td>1338.000000</td>\n",
              "      <td>1338.000000</td>\n",
              "      <td>1338.000000</td>\n",
              "      <td>1338.000000</td>\n",
              "    </tr>\n",
              "    <tr>\n",
              "      <th>mean</th>\n",
              "      <td>0.612610</td>\n",
              "      <td>0.577139</td>\n",
              "      <td>1.094918</td>\n",
              "      <td>0.208097</td>\n",
              "      <td>0.494768</td>\n",
              "      <td>0.505232</td>\n",
              "      <td>0.795217</td>\n",
              "      <td>0.204783</td>\n",
              "      <td>0.242152</td>\n",
              "      <td>0.242900</td>\n",
              "      <td>0.272048</td>\n",
              "      <td>0.242900</td>\n",
              "    </tr>\n",
              "    <tr>\n",
              "      <th>std</th>\n",
              "      <td>0.219531</td>\n",
              "      <td>0.114779</td>\n",
              "      <td>1.205493</td>\n",
              "      <td>0.189900</td>\n",
              "      <td>0.500160</td>\n",
              "      <td>0.500160</td>\n",
              "      <td>0.403694</td>\n",
              "      <td>0.403694</td>\n",
              "      <td>0.428546</td>\n",
              "      <td>0.428995</td>\n",
              "      <td>0.445181</td>\n",
              "      <td>0.428995</td>\n",
              "    </tr>\n",
              "    <tr>\n",
              "      <th>min</th>\n",
              "      <td>0.281250</td>\n",
              "      <td>0.300395</td>\n",
              "      <td>0.000000</td>\n",
              "      <td>0.017592</td>\n",
              "      <td>0.000000</td>\n",
              "      <td>0.000000</td>\n",
              "      <td>0.000000</td>\n",
              "      <td>0.000000</td>\n",
              "      <td>0.000000</td>\n",
              "      <td>0.000000</td>\n",
              "      <td>0.000000</td>\n",
              "      <td>0.000000</td>\n",
              "    </tr>\n",
              "    <tr>\n",
              "      <th>25%</th>\n",
              "      <td>0.421875</td>\n",
              "      <td>0.494942</td>\n",
              "      <td>0.000000</td>\n",
              "      <td>0.074334</td>\n",
              "      <td>0.000000</td>\n",
              "      <td>0.000000</td>\n",
              "      <td>1.000000</td>\n",
              "      <td>0.000000</td>\n",
              "      <td>0.000000</td>\n",
              "      <td>0.000000</td>\n",
              "      <td>0.000000</td>\n",
              "      <td>0.000000</td>\n",
              "    </tr>\n",
              "    <tr>\n",
              "      <th>50%</th>\n",
              "      <td>0.609375</td>\n",
              "      <td>0.572181</td>\n",
              "      <td>1.000000</td>\n",
              "      <td>0.147122</td>\n",
              "      <td>0.000000</td>\n",
              "      <td>1.000000</td>\n",
              "      <td>1.000000</td>\n",
              "      <td>0.000000</td>\n",
              "      <td>0.000000</td>\n",
              "      <td>0.000000</td>\n",
              "      <td>0.000000</td>\n",
              "      <td>0.000000</td>\n",
              "    </tr>\n",
              "    <tr>\n",
              "      <th>75%</th>\n",
              "      <td>0.796875</td>\n",
              "      <td>0.652997</td>\n",
              "      <td>2.000000</td>\n",
              "      <td>0.260935</td>\n",
              "      <td>1.000000</td>\n",
              "      <td>1.000000</td>\n",
              "      <td>1.000000</td>\n",
              "      <td>0.000000</td>\n",
              "      <td>0.000000</td>\n",
              "      <td>0.000000</td>\n",
              "      <td>1.000000</td>\n",
              "      <td>0.000000</td>\n",
              "    </tr>\n",
              "    <tr>\n",
              "      <th>max</th>\n",
              "      <td>1.000000</td>\n",
              "      <td>1.000000</td>\n",
              "      <td>5.000000</td>\n",
              "      <td>1.000000</td>\n",
              "      <td>1.000000</td>\n",
              "      <td>1.000000</td>\n",
              "      <td>1.000000</td>\n",
              "      <td>1.000000</td>\n",
              "      <td>1.000000</td>\n",
              "      <td>1.000000</td>\n",
              "      <td>1.000000</td>\n",
              "      <td>1.000000</td>\n",
              "    </tr>\n",
              "  </tbody>\n",
              "</table>\n",
              "</div>\n",
              "      <button class=\"colab-df-convert\" onclick=\"convertToInteractive('df-dd9a7744-4dfe-4367-bb80-26ed07544dec')\"\n",
              "              title=\"Convert this dataframe to an interactive table.\"\n",
              "              style=\"display:none;\">\n",
              "        \n",
              "  <svg xmlns=\"http://www.w3.org/2000/svg\" height=\"24px\"viewBox=\"0 0 24 24\"\n",
              "       width=\"24px\">\n",
              "    <path d=\"M0 0h24v24H0V0z\" fill=\"none\"/>\n",
              "    <path d=\"M18.56 5.44l.94 2.06.94-2.06 2.06-.94-2.06-.94-.94-2.06-.94 2.06-2.06.94zm-11 1L8.5 8.5l.94-2.06 2.06-.94-2.06-.94L8.5 2.5l-.94 2.06-2.06.94zm10 10l.94 2.06.94-2.06 2.06-.94-2.06-.94-.94-2.06-.94 2.06-2.06.94z\"/><path d=\"M17.41 7.96l-1.37-1.37c-.4-.4-.92-.59-1.43-.59-.52 0-1.04.2-1.43.59L10.3 9.45l-7.72 7.72c-.78.78-.78 2.05 0 2.83L4 21.41c.39.39.9.59 1.41.59.51 0 1.02-.2 1.41-.59l7.78-7.78 2.81-2.81c.8-.78.8-2.07 0-2.86zM5.41 20L4 18.59l7.72-7.72 1.47 1.35L5.41 20z\"/>\n",
              "  </svg>\n",
              "      </button>\n",
              "      \n",
              "  <style>\n",
              "    .colab-df-container {\n",
              "      display:flex;\n",
              "      flex-wrap:wrap;\n",
              "      gap: 12px;\n",
              "    }\n",
              "\n",
              "    .colab-df-convert {\n",
              "      background-color: #E8F0FE;\n",
              "      border: none;\n",
              "      border-radius: 50%;\n",
              "      cursor: pointer;\n",
              "      display: none;\n",
              "      fill: #1967D2;\n",
              "      height: 32px;\n",
              "      padding: 0 0 0 0;\n",
              "      width: 32px;\n",
              "    }\n",
              "\n",
              "    .colab-df-convert:hover {\n",
              "      background-color: #E2EBFA;\n",
              "      box-shadow: 0px 1px 2px rgba(60, 64, 67, 0.3), 0px 1px 3px 1px rgba(60, 64, 67, 0.15);\n",
              "      fill: #174EA6;\n",
              "    }\n",
              "\n",
              "    [theme=dark] .colab-df-convert {\n",
              "      background-color: #3B4455;\n",
              "      fill: #D2E3FC;\n",
              "    }\n",
              "\n",
              "    [theme=dark] .colab-df-convert:hover {\n",
              "      background-color: #434B5C;\n",
              "      box-shadow: 0px 1px 3px 1px rgba(0, 0, 0, 0.15);\n",
              "      filter: drop-shadow(0px 1px 2px rgba(0, 0, 0, 0.3));\n",
              "      fill: #FFFFFF;\n",
              "    }\n",
              "  </style>\n",
              "\n",
              "      <script>\n",
              "        const buttonEl =\n",
              "          document.querySelector('#df-dd9a7744-4dfe-4367-bb80-26ed07544dec button.colab-df-convert');\n",
              "        buttonEl.style.display =\n",
              "          google.colab.kernel.accessAllowed ? 'block' : 'none';\n",
              "\n",
              "        async function convertToInteractive(key) {\n",
              "          const element = document.querySelector('#df-dd9a7744-4dfe-4367-bb80-26ed07544dec');\n",
              "          const dataTable =\n",
              "            await google.colab.kernel.invokeFunction('convertToInteractive',\n",
              "                                                     [key], {});\n",
              "          if (!dataTable) return;\n",
              "\n",
              "          const docLinkHtml = 'Like what you see? Visit the ' +\n",
              "            '<a target=\"_blank\" href=https://colab.research.google.com/notebooks/data_table.ipynb>data table notebook</a>'\n",
              "            + ' to learn more about interactive tables.';\n",
              "          element.innerHTML = '';\n",
              "          dataTable['output_type'] = 'display_data';\n",
              "          await google.colab.output.renderOutput(dataTable, element);\n",
              "          const docLink = document.createElement('div');\n",
              "          docLink.innerHTML = docLinkHtml;\n",
              "          element.appendChild(docLink);\n",
              "        }\n",
              "      </script>\n",
              "    </div>\n",
              "  </div>\n",
              "  "
            ]
          },
          "metadata": {},
          "execution_count": 146
        }
      ]
    },
    {
      "cell_type": "markdown",
      "source": [
        "En el resumen estadistíco se observa que el promedio de las personas fuamdora es 20%, de las no fumadoras es 80%, con desviación estándar de 0.40, que la edad promedio entre las personas fumadoras es 61 años, las edad minima de la persona fumadora mas joven es de 28 años y la mayor es 100 años. El 25% de las personas tiene una edad 28 años, el 50% de la personas fumadora tienen en 28 y 60 años, el otro 50% esta comprendiso entre 60 a 100 años. El 75% de los fumadores tienen 79 años o más. El 20% de los fumadores habitan en el suroeste. el promedio de los hombre fumadores es 49.4%."
      ],
      "metadata": {
        "id": "yHG1_9hHdp7S"
      }
    },
    {
      "cell_type": "code",
      "source": [
        "# Calculamos Variance Inflation Factor(VIF).\n",
        "# Cuantifica la  multicolinealidad en un análisis de regresión normal de mínimos cuadrados.\n",
        "# VIF=1, Baja Multicollinearidad\n",
        "# VIF=1 VIF<5, Moderada Multicollinearidad\n",
        "# VIF=1 VIF>5, Multicollinearity Extrema (Se busca evitar)\n",
        "\n",
        "import statsmodels.api as sm\n",
        "from statsmodels.stats.outliers_influence import variance_inflation_factor"
      ],
      "metadata": {
        "id": "CT2noLNuOr0T"
      },
      "execution_count": 142,
      "outputs": []
    },
    {
      "cell_type": "code",
      "source": [
        "# Seleccionamos las variables que vamos a analizar \n",
        "X = data[['costo','fumador0', 'fumador1']]\n",
        "  \n",
        "# VIF dataframe\n",
        "vif_data = pd.DataFrame()\n",
        "vif_data[\"feature\"] = X.columns\n",
        "  \n",
        "# calculating VIF for each feature\n",
        "\n",
        "vif_data[\"VIF\"] = [variance_inflation_factor(X.values, i) for i in range(len(X.columns))]\n",
        "print(vif_data)"
      ],
      "metadata": {
        "colab": {
          "base_uri": "https://localhost:8080/"
        },
        "id": "fkYkYASDT1aS",
        "outputId": "b443c79b-743e-420c-823c-f6a699df73be"
      },
      "execution_count": 143,
      "outputs": [
        {
          "output_type": "stream",
          "name": "stdout",
          "text": [
            "    feature       VIF\n",
            "0     costo  2.629951\n",
            "1  fumador0  2.015228\n",
            "2  fumador1  4.775201\n"
          ]
        }
      ]
    },
    {
      "cell_type": "code",
      "source": [
        "X = data[['edad','fumador0', 'fumador1']]\n",
        "  \n",
        "# VIF dataframe\n",
        "vif_data = pd.DataFrame()\n",
        "vif_data[\"feature\"] = X.columns\n",
        "  \n",
        "# calculating VIF for each feature\n",
        "\n",
        "vif_data[\"VIF\"] = [variance_inflation_factor(X.values, i) for i in range(len(X.columns))]\n",
        "print(vif_data)"
      ],
      "metadata": {
        "colab": {
          "base_uri": "https://localhost:8080/"
        },
        "id": "tYwxugdLUnAD",
        "outputId": "8ec2a681-17d2-4a39-cab8-07d1f0a1719d"
      },
      "execution_count": 144,
      "outputs": [
        {
          "output_type": "stream",
          "name": "stdout",
          "text": [
            "    feature       VIF\n",
            "0      edad  1.000626\n",
            "1  fumador0  7.257504\n",
            "2  fumador1  2.540961\n"
          ]
        }
      ]
    },
    {
      "cell_type": "code",
      "source": [],
      "metadata": {
        "id": "nQULffTvVNy1"
      },
      "execution_count": 144,
      "outputs": []
    }
  ]
}